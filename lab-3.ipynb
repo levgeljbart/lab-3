{
 "cells": [
  {
   "cell_type": "markdown",
   "id": "027f36ce",
   "metadata": {},
   "source": [
    "Лабораторная работа 3\n",
    "\n",
    "Гельбарт Лев НММбд-01-22"
   ]
  },
  {
   "cell_type": "code",
   "execution_count": 10,
   "id": "1f1eb1e0",
   "metadata": {},
   "outputs": [
    {
     "name": "stdout",
     "output_type": "stream",
     "text": [
      "[[[1. 1. 1. 1.]\n",
      "  [1. 1. 1. 1.]\n",
      "  [1. 1. 1. 1.]]\n",
      "\n",
      " [[1. 1. 1. 1.]\n",
      "  [1. 1. 1. 1.]\n",
      "  [1. 1. 1. 1.]]]\n"
     ]
    }
   ],
   "source": [
    "import numpy as np\n",
    "\n",
    "print(np.ones((2,3,4)))"
   ]
  },
  {
   "cell_type": "code",
   "execution_count": 11,
   "id": "942e5486",
   "metadata": {},
   "outputs": [
    {
     "name": "stdout",
     "output_type": "stream",
     "text": [
      "[[42 42 42 42 42 42 42 42]\n",
      " [42 42 42 42 42 42 42 42]\n",
      " [42 42 42 42 42 42 42 42]\n",
      " [42 42 42 42 42 42 42 42]\n",
      " [42 42 42 42 42 42 42 42]\n",
      " [42 42 42 42 42 42 42 42]\n",
      " [42 42 42 42 42 42 42 42]\n",
      " [42 42 42 42 42 42 42 42]]\n"
     ]
    }
   ],
   "source": [
    "print(np.full((8,8), 42))"
   ]
  },
  {
   "cell_type": "code",
   "execution_count": 12,
   "id": "dd13b23f",
   "metadata": {},
   "outputs": [
    {
     "name": "stdout",
     "output_type": "stream",
     "text": [
      "[  0.          14.28571429  28.57142857  42.85714286  57.14285714\n",
      "  71.42857143  85.71428571 100.        ]\n"
     ]
    }
   ],
   "source": [
    "print(np.linspace(0, 100, 8))"
   ]
  },
  {
   "cell_type": "code",
   "execution_count": 15,
   "id": "eac20e54",
   "metadata": {},
   "outputs": [
    {
     "name": "stdout",
     "output_type": "stream",
     "text": [
      "[[0. 0. 0.]\n",
      " [0. 0. 0.]]\n",
      "[[0. 0.]\n",
      " [0. 0.]\n",
      " [0. 0.]]\n"
     ]
    }
   ],
   "source": [
    "b = np.zeros((2,3))\n",
    "\n",
    "print(b)\n",
    "\n",
    "c = b.transpose()\n",
    "\n",
    "print(c)"
   ]
  },
  {
   "cell_type": "code",
   "execution_count": 16,
   "id": "0db7bee1",
   "metadata": {},
   "outputs": [
    {
     "name": "stdout",
     "output_type": "stream",
     "text": [
      "[[2. 2. 2.]\n",
      " [2. 2. 2.]]\n"
     ]
    }
   ],
   "source": [
    "d = np.ones((2,3))\n",
    "e = np.ones((2, 3))\n",
    "\n",
    "print(e + d)"
   ]
  },
  {
   "cell_type": "code",
   "execution_count": 49,
   "id": "1bb9c405",
   "metadata": {},
   "outputs": [
    {
     "name": "stdout",
     "output_type": "stream",
     "text": [
      "[[413, 454], [937, 1030]]\n"
     ]
    }
   ],
   "source": [
    "\n",
    "def umnozh(a, b, c):\n",
    "    m = len(a)                                          \n",
    "    n = len(b)                                          \n",
    "    k = len(b[0])\n",
    "\n",
    "    d = [[None for __ in range(k)] for __ in range(m)]  \n",
    "\n",
    "    for i in range(m):\n",
    "        for j in range(k):       \n",
    "            d[i][j] = sum(a[i][kk] * b[kk][j] for kk in range(n))\n",
    "  \n",
    "    m = len(d)     \n",
    "    n = len(c)     \n",
    "    k = len(c[0])\n",
    "\n",
    "    e = [[None for __ in range(k)] for __ in range(m)]    # c: m × k\n",
    "\n",
    "    for i in range(m):\n",
    "        for j in range(k):       \n",
    "            e[i][j] = sum(d[i][kk] * c[kk][j] for kk in range(n))\n",
    "    return(e)\n",
    "\n",
    "a = [[1, 2],\n",
    "     [3, 4]]\n",
    "     \n",
    "b = [[5, 6],\n",
    "     [7, 8]]\n",
    "\n",
    "c = [[9, 10],\n",
    "     [11, 12]]\n",
    "\n",
    "print(umnozh(a, b, c))"
   ]
  },
  {
   "cell_type": "code",
   "execution_count": 33,
   "id": "a16e483f",
   "metadata": {},
   "outputs": [
    {
     "name": "stdout",
     "output_type": "stream",
     "text": [
      "2\n",
      "Матричное умножение:\n",
      " [[ 50  68]\n",
      " [122 167]]\n",
      "[[27, 30], [78, 87]]\n"
     ]
    }
   ],
   "source": [
    "first_matrix = np.array([[1,2,3],[4,5,6]])\n",
    "second_matrix = np.array([[7,8,9],[10,11,12]])\n",
    "\n",
    "length = len(first_matrix) \n",
    "print(length)\n",
    "result_matrix = [[0 for i in range(length)] for i in range(length)]\n",
    "for i in range(length):\n",
    "    for j in range(length):\n",
    "        for k in range(length):\n",
    "            result_matrix[i][j] += first_matrix[i][k] * second_matrix[k][j]\n",
    "            \n",
    "print('Матричное умножение:\\n', first_matrix @ second_matrix.T)\n",
    "print(result_matrix)"
   ]
  },
  {
   "cell_type": "code",
   "execution_count": null,
   "id": "19c5a20f",
   "metadata": {},
   "outputs": [],
   "source": []
  },
  {
   "cell_type": "code",
   "execution_count": 34,
   "id": "9029168f",
   "metadata": {},
   "outputs": [
    {
     "name": "stdout",
     "output_type": "stream",
     "text": [
      "[[19 22]\n",
      " [43 50]]\n"
     ]
    }
   ],
   "source": [
    "def umn(a,b):\n",
    "    c = b.transpose()\n",
    "    return (a @ c.T)\n",
    "\n",
    "a = np.array([[1,2],[3,4]])\n",
    "b = np.array([[5,6],[7,8]])\n",
    "\n",
    "print(umn(a, b))"
   ]
  },
  {
   "cell_type": "markdown",
   "id": "1254e42e",
   "metadata": {},
   "source": [
    "Загружаем библиотеку для графиков. Задаем ось х от -10 до 10, задаем функцию, рисуем, выводим"
   ]
  },
  {
   "cell_type": "code",
   "execution_count": 35,
   "id": "b01ab822",
   "metadata": {},
   "outputs": [],
   "source": [
    "import matplotlib.pyplot as plt\n",
    "%matplotlib inline"
   ]
  },
  {
   "cell_type": "code",
   "execution_count": 41,
   "id": "642ae75d",
   "metadata": {},
   "outputs": [
    {
     "data": {
      "image/png": "[encoded data removed]",
      "text/plain": [
       "<Figure size 640x480 with 1 Axes>"
      ]
     },
     "metadata": {},
     "output_type": "display_data"
    }
   ],
   "source": [
    "x = np.arange(-10, 11)\n",
    "\n",
    "y = x*x*x/12 + x*(x-15) - 72\n",
    "\n",
    "plt.plot(x,y)\n",
    "plt.show() "
   ]
  },
  {
   "cell_type": "markdown",
   "id": "d78b3171",
   "metadata": {},
   "source": [
    "Тут то же самое, только в х добавляем шаг 0.1, график более плавный"
   ]
  },
  {
   "cell_type": "code",
   "execution_count": 42,
   "id": "b2130928",
   "metadata": {},
   "outputs": [
    {
     "data": {
      "image/png": "[encoded data removed]",
      "text/plain": [
       "<Figure size 640x480 with 1 Axes>"
      ]
     },
     "metadata": {},
     "output_type": "display_data"
    }
   ],
   "source": [
    "x = np.arange(-10, 10, 0.1)\n",
    "\n",
    "y = x*x*x/12 + x*(x-15) - 72\n",
    "\n",
    "plt.plot(x,y)\n",
    "plt.show() "
   ]
  },
  {
   "cell_type": "code",
   "execution_count": null,
   "id": "e3dda808",
   "metadata": {},
   "outputs": [],
   "source": []
  }
 ],
 "metadata": {
  "kernelspec": {
   "display_name": "Python 3 (ipykernel)",
   "language": "python",
   "name": "python3"
  },
  "language_info": {
   "codemirror_mode": {
    "name": "ipython",
    "version": 3
   },
   "file_extension": ".py",
   "mimetype": "text/x-python",
   "name": "python",
   "nbconvert_exporter": "python",
   "pygments_lexer": "ipython3",
   "version": "3.11.4"
  }
 },
 "nbformat": 4,
 "nbformat_minor": 5
}
